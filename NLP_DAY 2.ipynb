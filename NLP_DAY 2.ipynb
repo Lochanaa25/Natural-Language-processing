{
 "cells": [
  {
   "cell_type": "markdown",
   "id": "d5f996c4-2b78-4fbd-83ed-f1511295641b",
   "metadata": {},
   "source": [
    "# Stop words"
   ]
  },
  {
   "cell_type": "code",
   "execution_count": 1,
   "id": "a9e7fd04-20bc-4e9a-8dca-1967f3be7096",
   "metadata": {},
   "outputs": [],
   "source": [
    "import spacy\n",
    "nlp = spacy.load('en_core_web_sm')"
   ]
  },
  {
   "cell_type": "code",
   "execution_count": 2,
   "id": "03c6e753-af91-4f1d-9044-adc5b4612a74",
   "metadata": {},
   "outputs": [
    {
     "name": "stdout",
     "output_type": "stream",
     "text": [
      "{'either', 'for', 'eleven', 'into', 'less', 'she', 'therefore', 'keep', 'together', 'still', 'everywhere', 'wherever', 'really', 'up', 'top', 'though', 'where', 'you', '’s', 'any', 'others', 'those', 'hereupon', 'whence', 'my', 'whereafter', \"'s\", 'when', 'own', 'could', 'them', 'it', 'him', 'hers', 'if', 'seems', 'had', 'twelve', 'does', 'anything', 'otherwise', 'per', 'other', 'thence', 'who', 'make', 'throughout', 'nowhere', 'be', 'to', 'last', 'call', 'former', 'thereby', 'until', 'being', 'anyone', 'already', 'thus', 'himself', 'over', 'meanwhile', 'formerly', 'beforehand', 'anyhow', '‘s', 'go', 'yours', 'few', 'might', 'fifteen', 'nothing', 'whom', 'none', 'else', 'our', 'been', 'elsewhere', 'twenty', 'n’t', 'two', 'nor', 'these', 'made', 'neither', 'some', 'became', 'but', 'by', 'mine', 'must', 'against', 'front', 'indeed', 'than', 'empty', 'whether', 'yet', 'whereupon', 'both', 'get', 'may', 'alone', 'why', 'since', 'amongst', 'seemed', 'myself', 'afterwards', 'unless', 'third', 'put', '‘re', 'they', 'everyone', 'with', 'again', 'is', 'always', 'he', 'then', 'under', 'are', 'very', 'more', 'see', 'do', 'whenever', 'has', 'never', 'nevertheless', 'sixty', 'thereafter', 'five', \"'ll\", 'almost', 'much', 'seeming', 'that', 'their', 'yourself', 'four', 'side', 'before', 'rather', 'several', 'hundred', 're', 'beside', 'most', 'hence', 'noone', 'well', 'were', 'bottom', 'whereby', '’d', 'due', 'yourselves', 'among', 'an', 'ca', 'name', 'about', 'used', 'also', 'your', 'at', 'ours', 'a', 'just', 'now', 'not', 'such', 'us', 'because', '‘ll', 'namely', 'although', 'his', 'too', 'which', 'around', 'say', \"'re\", 'amount', 'via', 'nobody', 'cannot', 'latterly', 'me', 'upon', 'various', 'toward', 'eight', 'full', 'in', 'part', 'without', 'serious', 'ten', 'thereupon', 'all', 'once', 'whither', 'doing', '‘ve', '’m', 'off', 'ourselves', 'first', 'anywhere', 'everything', 'was', '‘d', 'become', 'fifty', 'here', 'each', 'enough', 'during', 'wherein', \"'ve\", 'hereby', 'whereas', 'quite', 'out', 'only', 'did', 'latter', 'of', 'between', 'along', 'every', 'move', 'what', 'above', 'and', 'have', 'whatever', 'towards', 'i', 'becoming', 'onto', 'back', 'there', 'whole', 'somehow', 'another', '’re', 'thru', 'seem', 'please', 'whoever', 'regarding', 'however', 'show', 'can', 'no', 'themselves', 'behind', 'becomes', 'as', 'her', 'itself', 'while', 'perhaps', 'same', 'forty', 'sometimes', 'using', 'take', 'down', 'within', \"'d\", 'below', 'how', 'even', 'give', \"'m\", 'hereafter', 'someone', 'whose', 'herein', '‘m', 'mostly', 'across', 'will', 'would', 'something', 'am', 'done', 'further', 'except', 'ever', 'often', 'many', 'next', 'through', 'so', 'six', 'we', 'its', 'somewhere', 'this', 'or', 'therein', 'three', '’ve', 'the', 'one', 'from', 'beyond', 'sometime', '’ll', 'nine', 'after', 'least', 'moreover', 'anyway', 'n‘t', 'herself', 'besides', 'on', 'should', \"n't\"}\n"
     ]
    }
   ],
   "source": [
    "print(nlp.Defaults.stop_words)"
   ]
  },
  {
   "cell_type": "code",
   "execution_count": 3,
   "id": "9f69918a-79b6-4b55-99e3-2cce128f84eb",
   "metadata": {},
   "outputs": [
    {
     "data": {
      "text/plain": [
       "True"
      ]
     },
     "execution_count": 3,
     "metadata": {},
     "output_type": "execute_result"
    }
   ],
   "source": [
    "nlp.vocab['one'].is_stop"
   ]
  },
  {
   "cell_type": "code",
   "execution_count": 4,
   "id": "526ec873-e7ee-4e48-b2b3-ec9fd016783a",
   "metadata": {},
   "outputs": [
    {
     "data": {
      "text/plain": [
       "False"
      ]
     },
     "execution_count": 4,
     "metadata": {},
     "output_type": "execute_result"
    }
   ],
   "source": [
    "nlp.vocab['Alice in wonderland'].is_stop"
   ]
  },
  {
   "cell_type": "code",
   "execution_count": 6,
   "id": "cd8563fb-8c9d-4546-b542-fba50a54d986",
   "metadata": {},
   "outputs": [
    {
     "name": "stdout",
     "output_type": "stream",
     "text": [
      "{'either', 'for', 'eleven', 'into', 'less', 'she', 'therefore', 'keep', 'together', 'still', 'everywhere', 'wherever', 'really', 'up', 'top', 'though', 'where', 'you', '’s', 'any', 'others', 'those', 'hereupon', 'whence', 'my', 'whereafter', \"'s\", 'when', 'own', 'could', 'them', 'it', 'him', 'hers', 'if', 'seems', 'had', 'twelve', 'does', 'anything', 'otherwise', 'per', 'other', 'thence', 'who', 'make', 'throughout', 'nowhere', 'be', 'to', 'last', 'call', 'former', 'thereby', 'until', 'being', 'anyone', 'already', 'thus', 'himself', 'over', 'meanwhile', 'formerly', 'beforehand', 'anyhow', '‘s', 'go', 'yours', 'few', 'might', 'fifteen', 'nothing', 'whom', 'none', 'else', 'our', 'been', 'elsewhere', 'twenty', 'n’t', 'two', 'nor', 'these', 'made', 'neither', 'some', 'became', 'but', 'by', 'mine', 'must', 'against', 'front', 'indeed', 'than', 'empty', 'whether', 'yet', 'whereupon', 'both', 'get', 'may', 'alone', 'why', 'since', 'amongst', 'seemed', 'myself', 'afterwards', 'unless', 'third', 'put', '‘re', 'they', 'everyone', 'with', 'again', 'is', 'always', 'he', 'then', 'under', 'are', 'very', 'more', 'see', 'do', 'whenever', 'has', 'never', 'nevertheless', 'sixty', 'thereafter', 'five', \"'ll\", 'almost', 'much', 'seeming', 'that', 'their', 'yourself', 'four', 'side', 'before', 'rather', 'several', 'hundred', 're', 'beside', 'most', 'hence', 'noone', 'well', 'were', 'bottom', 'whereby', '’d', 'due', 'yourselves', 'among', 'an', 'ca', 'name', 'about', 'used', 'also', 'your', 'at', 'ours', 'a', 'just', 'now', 'not', 'such', 'us', 'because', '‘ll', 'namely', 'although', 'his', 'too', 'which', 'around', 'say', \"'re\", 'amount', 'via', 'nobody', 'cannot', 'latterly', 'me', 'upon', 'various', 'toward', 'eight', 'full', 'in', 'part', 'without', 'serious', 'ten', 'thereupon', 'all', 'once', 'whither', 'doing', '‘ve', '’m', 'off', 'ourselves', 'first', 'anywhere', 'everything', 'was', '‘d', 'become', 'fifty', 'here', 'each', 'enough', 'during', 'wherein', \"'ve\", 'hereby', 'whereas', 'quite', 'out', 'only', 'did', 'latter', 'of', 'between', 'along', 'every', 'move', 'what', 'above', 'and', 'have', 'whatever', 'towards', 'i', 'becoming', 'onto', 'back', 'there', 'whole', 'somehow', 'another', '’re', 'thru', 'seem', 'please', 'whoever', 'regarding', 'however', 'show', 'can', 'no', 'themselves', 'behind', 'becomes', 'as', 'her', 'itself', 'while', 'perhaps', 'same', 'forty', 'sometimes', 'using', 'take', 'down', 'within', \"'d\", 'below', 'how', 'even', 'give', \"'m\", 'hereafter', 'someone', 'whose', 'herein', '‘m', 'mostly', 'across', 'will', 'would', 'something', 'am', 'done', 'further', 'except', 'ever', 'often', 'many', 'next', 'through', 'so', 'six', 'we', 'its', 'somewhere', 'this', 'or', 'therein', 'three', '’ve', 'the', 'one', 'from', 'beyond', 'sometime', '’ll', 'nine', 'after', 'least', 'moreover', 'anyway', 'n‘t', 'herself', 'besides', 'on', 'should', \"n't\"}\n"
     ]
    }
   ],
   "source": [
    "print(nlp.Defaults.stop_words)"
   ]
  },
  {
   "cell_type": "code",
   "execution_count": 9,
   "id": "89e3496e-bf61-45eb-bb1d-6ad7b713ae57",
   "metadata": {},
   "outputs": [],
   "source": [
    "nlp.Defaults.stop_words.add('After')"
   ]
  },
  {
   "cell_type": "code",
   "execution_count": 10,
   "id": "12057d40-5a83-4c01-bdac-4226cd890c2b",
   "metadata": {},
   "outputs": [
    {
     "data": {
      "text/plain": [
       "True"
      ]
     },
     "execution_count": 10,
     "metadata": {},
     "output_type": "execute_result"
    }
   ],
   "source": [
    "nlp.vocab['After'].is_stop"
   ]
  },
  {
   "cell_type": "markdown",
   "id": "e6befd3a-b4e6-4b59-ad57-a01f78e3c9e7",
   "metadata": {},
   "source": [
    "# Stemming"
   ]
  },
  {
   "cell_type": "code",
   "execution_count": 11,
   "id": "8af8bb90-0d98-4218-b54e-cf362c7b74ca",
   "metadata": {},
   "outputs": [],
   "source": [
    "import nltk"
   ]
  },
  {
   "cell_type": "code",
   "execution_count": 12,
   "id": "a5c35d1e-486f-4816-ad9d-ad98b57bdec5",
   "metadata": {},
   "outputs": [],
   "source": [
    "from nltk.stem.porter import *"
   ]
  },
  {
   "cell_type": "code",
   "execution_count": 13,
   "id": "861dc7bc-1cd2-40a5-a17e-1ca00c7e6957",
   "metadata": {},
   "outputs": [],
   "source": [
    "p_stemmer = PorterStemmer()"
   ]
  },
  {
   "cell_type": "code",
   "execution_count": 16,
   "id": "8be31099-b1f9-4c7b-b3a2-d313b8bd6a44",
   "metadata": {},
   "outputs": [],
   "source": [
    "words = ['cook','eating','swimming']"
   ]
  },
  {
   "cell_type": "code",
   "execution_count": 17,
   "id": "118ee288-5564-4ac7-884c-b357bcd8007f",
   "metadata": {},
   "outputs": [
    {
     "name": "stdout",
     "output_type": "stream",
     "text": [
      "cook------>cook\n",
      "eating------>eat\n",
      "swimming------>swim\n"
     ]
    }
   ],
   "source": [
    "for word in words:\n",
    "  print(f\"{word}------>{p_stemmer.stem(word)}\")"
   ]
  },
  {
   "cell_type": "code",
   "execution_count": 18,
   "id": "14d3264a-4698-42b3-ba8c-5b8075d8d3c3",
   "metadata": {},
   "outputs": [],
   "source": [
    "from nltk.stem.snowball import SnowballStemmer"
   ]
  },
  {
   "cell_type": "code",
   "execution_count": 19,
   "id": "853de9c9-65e3-426d-914d-589a0d469b3d",
   "metadata": {},
   "outputs": [],
   "source": [
    "words = ['cook','eating','swimming']"
   ]
  },
  {
   "cell_type": "code",
   "execution_count": 20,
   "id": "2380854f-b36d-490d-b546-f06425467312",
   "metadata": {},
   "outputs": [
    {
     "name": "stdout",
     "output_type": "stream",
     "text": [
      "cook------>cook\n",
      "eating------>eat\n",
      "swimming------>swim\n"
     ]
    }
   ],
   "source": [
    "for word in words:\n",
    "  print(f\"{word}------>{p_stemmer.stem(word)}\")"
   ]
  },
  {
   "cell_type": "code",
   "execution_count": null,
   "id": "e5fcc27d-1a2c-40e9-ae63-aacb2cb4a822",
   "metadata": {},
   "outputs": [],
   "source": [
    "#Snowball Stemmer tends to produce results that are closer to the actual root forms, especially for more complex words.\n",
    "\n"
   ]
  },
  {
   "cell_type": "markdown",
   "id": "78341fc9-a9ad-47dd-99f7-0136cf188e65",
   "metadata": {},
   "source": [
    "# Lemmetization"
   ]
  },
  {
   "cell_type": "code",
   "execution_count": 21,
   "id": "3a347fac-56ff-4343-98c2-a4e97d895d4a",
   "metadata": {},
   "outputs": [],
   "source": [
    "import spacy\n",
    "nlp = spacy.load('en_core_web_sm')"
   ]
  },
  {
   "cell_type": "code",
   "execution_count": 23,
   "id": "6cb85f34-4496-4281-b20f-8167a84ca8b5",
   "metadata": {},
   "outputs": [],
   "source": [
    "doc1 = nlp(\"The children were playing joyfully in the garden, where the flowers had been blooming profusely all spring, and their laughter echoed through the sunny afternoon, reminding the elders of their own carefree childhoods.\")"
   ]
  },
  {
   "cell_type": "code",
   "execution_count": 24,
   "id": "7fedc5c4-d04b-4dd9-bb5f-d44fb18d35a0",
   "metadata": {},
   "outputs": [
    {
     "name": "stdout",
     "output_type": "stream",
     "text": [
      "The \t DET \t 7425985699627899538 \t the\n",
      "children \t NOUN \t 737253710922290542 \t child\n",
      "were \t AUX \t 10382539506755952630 \t be\n",
      "playing \t VERB \t 8228585124152053988 \t play\n",
      "joyfully \t ADV \t 12361726362774203744 \t joyfully\n",
      "in \t ADP \t 3002984154512732771 \t in\n",
      "the \t DET \t 7425985699627899538 \t the\n",
      "garden \t NOUN \t 2103183101269663724 \t garden\n",
      ", \t PUNCT \t 2593208677638477497 \t ,\n",
      "where \t SCONJ \t 16318918034475841628 \t where\n",
      "the \t DET \t 7425985699627899538 \t the\n",
      "flowers \t NOUN \t 14229245098966833583 \t flower\n",
      "had \t AUX \t 14692702688101715474 \t have\n",
      "been \t AUX \t 10382539506755952630 \t be\n",
      "blooming \t VERB \t 12133851183666495347 \t bloom\n",
      "profusely \t ADV \t 38790300158940602 \t profusely\n",
      "all \t DET \t 13409319323822384369 \t all\n",
      "spring \t NOUN \t 11096758440211815578 \t spring\n",
      ", \t PUNCT \t 2593208677638477497 \t ,\n",
      "and \t CCONJ \t 2283656566040971221 \t and\n",
      "their \t PRON \t 4244585616942201722 \t their\n",
      "laughter \t NOUN \t 165609914645251023 \t laughter\n",
      "echoed \t VERB \t 3713484765634522020 \t echo\n",
      "through \t ADP \t 18216413589307435838 \t through\n",
      "the \t DET \t 7425985699627899538 \t the\n",
      "sunny \t ADJ \t 12829200853971739355 \t sunny\n",
      "afternoon \t NOUN \t 945086212746794651 \t afternoon\n",
      ", \t PUNCT \t 2593208677638477497 \t ,\n",
      "reminding \t VERB \t 4989518822196534566 \t remind\n",
      "the \t DET \t 7425985699627899538 \t the\n",
      "elders \t NOUN \t 11556441303262521647 \t elder\n",
      "of \t ADP \t 886050111519832510 \t of\n",
      "their \t PRON \t 4244585616942201722 \t their\n",
      "own \t ADJ \t 2646123857127441627 \t own\n",
      "carefree \t NOUN \t 4698334976984438754 \t carefree\n",
      "childhoods \t NOUN \t 2927356080012357581 \t childhood\n",
      ". \t PUNCT \t 12646065887601541794 \t .\n"
     ]
    }
   ],
   "source": [
    "for token in doc1:\n",
    "  print(token.text, \"\\t\", token.pos_, '\\t',token.lemma, '\\t', token.lemma_ )"
   ]
  },
  {
   "cell_type": "code",
   "execution_count": 26,
   "id": "45e9bc08-b484-4cf0-a6d1-4c772c9657a2",
   "metadata": {},
   "outputs": [],
   "source": [
    "def show_lemmas(text):\n",
    "    for token in text:\n",
    "        print(f'{token.text:{10}} {token.pos_:{3}} {token.lemma:<{1}} {token.lemma_}')"
   ]
  },
  {
   "cell_type": "code",
   "execution_count": 27,
   "id": "1249fb1c-5e0f-47c2-a2c2-ddb2fc3e2e33",
   "metadata": {},
   "outputs": [],
   "source": [
    "doc2 = nlp(\"The quick brown fox jumps over the lazy dog\")"
   ]
  },
  {
   "cell_type": "code",
   "execution_count": 28,
   "id": "e04c7e37-c757-42e6-a327-9c199bbc46ab",
   "metadata": {},
   "outputs": [
    {
     "name": "stdout",
     "output_type": "stream",
     "text": [
      "The        DET 7425985699627899538 the\n",
      "quick      ADJ 12442504647632856847 quick\n",
      "brown      ADJ 15566893785393968193 brown\n",
      "fox        NOUN 4333436952782779665 fox\n",
      "jumps      VERB 7269679109085336853 jump\n",
      "over       ADP 5456543204961066030 over\n",
      "the        DET 7425985699627899538 the\n",
      "lazy       ADJ 8463806658378306174 lazy\n",
      "dog        NOUN 7562983679033046312 dog\n"
     ]
    }
   ],
   "source": [
    "show_lemmas(doc2)"
   ]
  },
  {
   "cell_type": "code",
   "execution_count": null,
   "id": "8387e053-c0cf-4fbd-9174-4699197465a8",
   "metadata": {},
   "outputs": [],
   "source": [
    "# u' prefix before a string literal in Python indicates that the string is a Unicode string"
   ]
  }
 ],
 "metadata": {
  "kernelspec": {
   "display_name": "Python 3 (ipykernel)",
   "language": "python",
   "name": "python3"
  },
  "language_info": {
   "codemirror_mode": {
    "name": "ipython",
    "version": 3
   },
   "file_extension": ".py",
   "mimetype": "text/x-python",
   "name": "python",
   "nbconvert_exporter": "python",
   "pygments_lexer": "ipython3",
   "version": "3.12.0"
  }
 },
 "nbformat": 4,
 "nbformat_minor": 5
}
